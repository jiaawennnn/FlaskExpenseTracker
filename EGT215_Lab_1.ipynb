{
  "nbformat": 4,
  "nbformat_minor": 0,
  "metadata": {
    "colab": {
      "provenance": [],
      "authorship_tag": "ABX9TyNqg+MRDjZKxINK8ha0rtBC",
      "include_colab_link": true
    },
    "kernelspec": {
      "name": "python3",
      "display_name": "Python 3"
    },
    "language_info": {
      "name": "python"
    }
  },
  "cells": [
    {
      "cell_type": "markdown",
      "metadata": {
        "id": "view-in-github",
        "colab_type": "text"
      },
      "source": [
        "<a href=\"https://colab.research.google.com/github/jiaawennnn/FlaskExpenseTracker/blob/master/EGT215_Lab_1.ipynb\" target=\"_parent\"><img src=\"https://colab.research.google.com/assets/colab-badge.svg\" alt=\"Open In Colab\"/></a>"
      ]
    },
    {
      "cell_type": "code",
      "source": [
        "import time\n",
        "print(time.ctime())"
      ],
      "metadata": {
        "colab": {
          "base_uri": "https://localhost:8080/"
        },
        "id": "r4PdrNTM8xxw",
        "outputId": "f59fb5f8-ba66-4990-af88-55f821014781"
      },
      "execution_count": 11,
      "outputs": [
        {
          "output_type": "stream",
          "name": "stdout",
          "text": [
            "Wed Oct 16 06:11:47 2024\n"
          ]
        }
      ]
    },
    {
      "cell_type": "code",
      "source": [
        "# one line of comment i am so bored right now i want to go home and sleep right now\n",
        "\n",
        "'''\n",
        "docstring\n",
        "another line\n",
        "'''\n"
      ],
      "metadata": {
        "colab": {
          "base_uri": "https://localhost:8080/",
          "height": 36
        },
        "id": "i5wvF2PF-Q8p",
        "outputId": "6eb0eb2c-4475-46c8-bc50-cc39f81ae6f1"
      },
      "execution_count": 12,
      "outputs": [
        {
          "output_type": "execute_result",
          "data": {
            "text/plain": [
              "'\\ndocstring\\nanother line\\n'"
            ],
            "application/vnd.google.colaboratory.intrinsic+json": {
              "type": "string"
            }
          },
          "metadata": {},
          "execution_count": 12
        }
      ]
    },
    {
      "cell_type": "markdown",
      "source": [
        "this is **bold**\n",
        "\n",
        "this is *italic*\n",
        "\n",
        "this is ~strikethrough~"
      ],
      "metadata": {
        "id": "GZhO38wJ_b7R"
      }
    },
    {
      "cell_type": "markdown",
      "source": [
        "$\\sqrt{3x+1}+(1+x)^2$"
      ],
      "metadata": {
        "id": "T_N6EiSoAXL9"
      }
    },
    {
      "cell_type": "markdown",
      "source": [
        "$e^x=\\sum_{i=0}^\\infty \\frac{1}{i!}x^i$"
      ],
      "metadata": {
        "id": "fJrp0pJAAlt3"
      }
    },
    {
      "cell_type": "markdown",
      "source": [],
      "metadata": {
        "id": "DUXg0ltJBi1b"
      }
    }
  ]
}